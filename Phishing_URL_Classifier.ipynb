{
  "cells": [
    {
      "cell_type": "markdown",
      "metadata": {
        "id": "view-in-github",
        "colab_type": "text"
      },
      "source": [
        "<a href=\"https://colab.research.google.com/github/hatmer/url_classifier/blob/main/Phishing_URL_Classifier.ipynb\" target=\"_parent\"><img src=\"https://colab.research.google.com/assets/colab-badge.svg\" alt=\"Open In Colab\"/></a>"
      ]
    },
    {
      "cell_type": "markdown",
      "metadata": {
        "id": "Ic4_occAAiAT"
      },
      "source": [
        "##### Copyright 2019 The TensorFlow Hub Authors.\n",
        "\n",
        "Licensed under the Apache License, Version 2.0 (the \"License\");"
      ]
    },
    {
      "cell_type": "code",
      "execution_count": null,
      "metadata": {
        "id": "zXXx5Oc3pOmN"
      },
      "outputs": [],
      "source": [
        "import numpy as np\n",
        "import tensorflow as tf\n",
        "import tensorflow_hub as hub\n",
        "import matplotlib.pyplot as plt\n",
        "\n",
        "with open(\"results_b.txt\") as fh:\n",
        "  lines_b = fh.readlines()\n",
        "\n",
        "with open(\"results_m.txt\") as fh:\n",
        "  lines_m = fh.readlines()\n",
        "\n",
        "# split test and train data\n",
        "from random import shuffle\n",
        "\n",
        "data = []\n",
        "for line in lines_m:\n",
        "  if line:\n",
        "    data.append((line.strip(), 1))\n",
        "for line in lines_b:\n",
        "  if line:\n",
        "    data.append((line.strip(), 0))\n",
        "\n",
        "shuffle(data)\n",
        "\n",
        "train_count = int(.8 * len(data))\n",
        "train_data = data[:train_count]\n",
        "test_data = data[train_count:]\n",
        "\n",
        "train_labels = []\n",
        "train_examples = []\n",
        "for (dp, label) in train_data:\n",
        "  train_labels.append(label)\n",
        "  train_examples.append(dp)\n",
        "\n",
        "train_labels = np.array(train_labels)\n",
        "train_examples = np.array(train_examples)\n",
        "\n",
        "test_labels = []\n",
        "test_examples = []\n",
        "for (dp,label) in test_data:\n",
        "  test_labels.append(label)\n",
        "  test_examples.append(dp)\n",
        "\n",
        "test_labels = np.array(test_labels)\n",
        "test_examples = np.array(test_examples)\n"
      ]
    },
    {
      "cell_type": "code",
      "execution_count": null,
      "metadata": {
        "id": "y8qCnve_-lkO",
        "colab": {
          "base_uri": "https://localhost:8080/"
        },
        "outputId": "3ff5da9a-b3d4-4a40-be0f-51f3126b215b"
      },
      "outputs": [
        {
          "output_type": "stream",
          "name": "stdout",
          "text": [
            "Training entries: 9331, test entries: 2333\n"
          ]
        }
      ],
      "source": [
        "\n",
        "print(\"Training entries: {}, test entries: {}\".format(len(train_examples), len(test_examples)))"
      ]
    },
    {
      "cell_type": "code",
      "source": [
        "print(train_examples[0:10])\n",
        "print(train_labels[0:10])"
      ],
      "metadata": {
        "colab": {
          "base_uri": "https://localhost:8080/"
        },
        "id": "mFl799vyrcnt",
        "outputId": "05a2d4c6-ef1e-41c7-9725-9576cc463293"
      },
      "execution_count": null,
      "outputs": [
        {
          "output_type": "stream",
          "name": "stdout",
          "text": [
            "['dds microsoft com broken 1991 MarkMonitor Inc. markmonitor United States Redmond markmonitor hotline domains microsoft markmonitor Microsoft Corporation Domain Administrator deleted'\n",
            " 'api16-access-sg pangle io secure IPv4 details IPv6 child nameserver authority mail 2019 GANDI SAS unknown missing imprecise anonymous unaffiliated nameless'\n",
            " 'ib anycast adnxs com insecure IPv4 2008 MarkMonitor Inc. markmonitor United States New York markmonitor hotline appnexus markmonitor AppNexus Inc Domain Admin France international ASN-APPNEX US'\n",
            " 'gv2q-ewh453-f321-f31-f31f infura-ipfs io secure IPv4 details IPv6 child nameserver authority mail 2020 GANDI SAS unknown missing imprecise anonymous unaffiliated nameless'\n",
            " 'swamipllcstore com secure IPv4 IPv6 nameserver authority mail 2022 GoDaddy.com LLC godaddy United States Tempe godaddy hotline Domains By Proxy LLC Registration Private United Kingdom international TWENTYI GB United Kingdom CDN Cloud Platform'\n",
            " 'honey io broken IPv4 details nameserver authority 2011 MarkMonitor Inc. unknown missing imprecise anonymous unaffiliated nameless United States international GOOGLE-CLOUD-PLATFORM US United States GOOGLE-CLOUD Google LLC'\n",
            " 'delightful-lava-windshield glitch me secure IPv4 2008 MarkMonitor Inc. unknown missing imprecise anonymous unaffiliated nameless United States international AMAZON-AES US United States AT-88-Z Amazon Technologies Inc.'\n",
            " 'tracktrace-packagenumber com secure IPv4 IPv6 nameserver authority 2023 Atak Domain apiname United States Ormond Beach apiname hotmail n/a busta william CLOUDFLARENET US United States CLOUDFLARENET Cloudflare Inc.'\n",
            " 'spk-secure id secure IPv4 IPv6 2023 Jagat Informasi Solusi (int) unknown missing imprecise anonymous unaffiliated nameless United States international CLOUDFLARENET US United States CLOUDFLARENET-EU CloudFlare Inc. 101 Townsend Street San Francisco CA 94107 US +1 (650) 319-8930 https://cloudflare.com/'\n",
            " 'bafybeihkwgoggixi3xwxmzbx37vzwfxvkabycayuoasuatukbpozavc2ji ipfs dweb link secure IPv4 IPv6 2017 CSC Corporate Domains Inc. cscglobal United States REDACTED FOR PRIVACY cscinfo Protocol Labs Inc. REDACTED FOR PRIVACY PROTOCOL US United States PL-767 Protocol Labs']\n",
            "[0 0 0 1 1 0 1 1 1 1]\n"
          ]
        }
      ]
    },
    {
      "cell_type": "code",
      "execution_count": null,
      "metadata": {
        "id": "_NUbzVeYkgcO"
      },
      "outputs": [],
      "source": [
        "model = \"https://tfhub.dev/google/nnlm-en-dim128-with-normalization/2\"\n",
        "hub_layer = hub.KerasLayer(model, input_shape=[], dtype=tf.string, trainable=True)"
      ]
    },
    {
      "cell_type": "code",
      "execution_count": null,
      "metadata": {
        "id": "xpKOoWgu-llD",
        "colab": {
          "base_uri": "https://localhost:8080/"
        },
        "outputId": "cecffc24-b845-414f-a68d-65c478aaddee"
      },
      "outputs": [
        {
          "output_type": "stream",
          "name": "stdout",
          "text": [
            "Model: \"sequential_6\"\n",
            "_________________________________________________________________\n",
            " Layer (type)                Output Shape              Param #   \n",
            "=================================================================\n",
            " keras_layer_2 (KerasLayer)  (None, 128)               124642688 \n",
            "                                                                 \n",
            " dense_4 (Dense)             (None, 16)                2064      \n",
            "                                                                 \n",
            " dense_5 (Dense)             (None, 1)                 17        \n",
            "                                                                 \n",
            "=================================================================\n",
            "Total params: 124,644,769\n",
            "Trainable params: 124,644,769\n",
            "Non-trainable params: 0\n",
            "_________________________________________________________________\n"
          ]
        }
      ],
      "source": [
        "model = tf.keras.Sequential()\n",
        "model.add(hub_layer)\n",
        "model.add(tf.keras.layers.Dense(16, activation='relu'))\n",
        "model.add(tf.keras.layers.Dense(1))\n",
        "\n",
        "model.summary()"
      ]
    },
    {
      "cell_type": "code",
      "execution_count": null,
      "metadata": {
        "id": "Mr0GP-cQ-llN"
      },
      "outputs": [],
      "source": [
        "model.compile(optimizer='adam',\n",
        "              loss=tf.losses.BinaryCrossentropy(from_logits=True),\n",
        "              metrics=[tf.metrics.BinaryAccuracy(threshold=0.0, name='accuracy'),\n",
        "                       tf.keras.metrics.TruePositives(thresholds=0.0),\n",
        "                       tf.keras.metrics.FalsePositives(thresholds=0.0),\n",
        "                       tf.keras.metrics.TrueNegatives(thresholds=0.0),\n",
        "                       tf.keras.metrics.FalseNegatives(thresholds=0.0)])"
      ]
    },
    {
      "cell_type": "code",
      "source": [
        "val = 4000\n",
        "x_val = train_examples[:val]\n",
        "partial_x_train = train_examples[val:]\n",
        "\n",
        "y_val = train_labels[:val]\n",
        "partial_y_train = train_labels[val:]"
      ],
      "metadata": {
        "id": "OCY4uecCDsdB"
      },
      "execution_count": null,
      "outputs": []
    },
    {
      "cell_type": "code",
      "execution_count": null,
      "metadata": {
        "id": "tXSGrjWZ-llW",
        "colab": {
          "base_uri": "https://localhost:8080/"
        },
        "outputId": "0225be8b-a941-4b64-c81b-ea1418301643"
      },
      "outputs": [
        {
          "output_type": "stream",
          "name": "stdout",
          "text": [
            "Epoch 1/30\n",
            "11/11 [==============================] - 38s 3s/step - loss: 0.6405 - accuracy: 0.6860 - true_positives_2: 2643.0000 - false_positives_2: 640.0000 - true_negatives_2: 1014.0000 - false_negatives_2: 1034.0000 - val_loss: 0.5547 - val_accuracy: 0.8052 - val_true_positives_2: 2637.0000 - val_false_positives_2: 719.0000 - val_true_negatives_2: 584.0000 - val_false_negatives_2: 60.0000\n",
            "Epoch 2/30\n",
            "11/11 [==============================] - 21s 2s/step - loss: 0.4868 - accuracy: 0.8366 - true_positives_2: 3594.0000 - false_positives_2: 788.0000 - true_negatives_2: 866.0000 - false_negatives_2: 83.0000 - val_loss: 0.4219 - val_accuracy: 0.8625 - val_true_positives_2: 2628.0000 - val_false_positives_2: 481.0000 - val_true_negatives_2: 822.0000 - val_false_negatives_2: 69.0000\n",
            "Epoch 3/30\n",
            "11/11 [==============================] - 22s 2s/step - loss: 0.3615 - accuracy: 0.8905 - true_positives_2: 3579.0000 - false_positives_2: 486.0000 - true_negatives_2: 1168.0000 - false_negatives_2: 98.0000 - val_loss: 0.3225 - val_accuracy: 0.8945 - val_true_positives_2: 2610.0000 - val_false_positives_2: 335.0000 - val_true_negatives_2: 968.0000 - val_false_negatives_2: 87.0000\n",
            "Epoch 4/30\n",
            "11/11 [==============================] - 21s 2s/step - loss: 0.2745 - accuracy: 0.9103 - true_positives_2: 3556.0000 - false_positives_2: 357.0000 - true_negatives_2: 1297.0000 - false_negatives_2: 121.0000 - val_loss: 0.2625 - val_accuracy: 0.9032 - val_true_positives_2: 2599.0000 - val_false_positives_2: 289.0000 - val_true_negatives_2: 1014.0000 - val_false_negatives_2: 98.0000\n",
            "Epoch 5/30\n",
            "11/11 [==============================] - 21s 2s/step - loss: 0.2212 - accuracy: 0.9242 - true_positives_2: 3547.0000 - false_positives_2: 274.0000 - true_negatives_2: 1380.0000 - false_negatives_2: 130.0000 - val_loss: 0.2244 - val_accuracy: 0.9160 - val_true_positives_2: 2594.0000 - val_false_positives_2: 233.0000 - val_true_negatives_2: 1070.0000 - val_false_negatives_2: 103.0000\n",
            "Epoch 6/30\n",
            "11/11 [==============================] - 20s 2s/step - loss: 0.1834 - accuracy: 0.9379 - true_positives_2: 3550.0000 - false_positives_2: 204.0000 - true_negatives_2: 1450.0000 - false_negatives_2: 127.0000 - val_loss: 0.1949 - val_accuracy: 0.9273 - val_true_positives_2: 2596.0000 - val_false_positives_2: 190.0000 - val_true_negatives_2: 1113.0000 - val_false_negatives_2: 101.0000\n",
            "Epoch 7/30\n",
            "11/11 [==============================] - 21s 2s/step - loss: 0.1528 - accuracy: 0.9467 - true_positives_2: 3567.0000 - false_positives_2: 174.0000 - true_negatives_2: 1480.0000 - false_negatives_2: 110.0000 - val_loss: 0.1712 - val_accuracy: 0.9345 - val_true_positives_2: 2603.0000 - val_false_positives_2: 168.0000 - val_true_negatives_2: 1135.0000 - val_false_negatives_2: 94.0000\n",
            "Epoch 8/30\n",
            "11/11 [==============================] - 21s 2s/step - loss: 0.1267 - accuracy: 0.9589 - true_positives_2: 3585.0000 - false_positives_2: 127.0000 - true_negatives_2: 1527.0000 - false_negatives_2: 92.0000 - val_loss: 0.1507 - val_accuracy: 0.9445 - val_true_positives_2: 2620.0000 - val_false_positives_2: 145.0000 - val_true_negatives_2: 1158.0000 - val_false_negatives_2: 77.0000\n",
            "Epoch 9/30\n",
            "11/11 [==============================] - 21s 2s/step - loss: 0.1056 - accuracy: 0.9690 - true_positives_2: 3608.0000 - false_positives_2: 96.0000 - true_negatives_2: 1558.0000 - false_negatives_2: 69.0000 - val_loss: 0.1357 - val_accuracy: 0.9515 - val_true_positives_2: 2636.0000 - val_false_positives_2: 133.0000 - val_true_negatives_2: 1170.0000 - val_false_negatives_2: 61.0000\n",
            "Epoch 10/30\n",
            "11/11 [==============================] - 20s 2s/step - loss: 0.0882 - accuracy: 0.9752 - true_positives_2: 3620.0000 - false_positives_2: 75.0000 - true_negatives_2: 1579.0000 - false_negatives_2: 57.0000 - val_loss: 0.1235 - val_accuracy: 0.9570 - val_true_positives_2: 2636.0000 - val_false_positives_2: 111.0000 - val_true_negatives_2: 1192.0000 - val_false_negatives_2: 61.0000\n",
            "Epoch 11/30\n",
            "11/11 [==============================] - 20s 2s/step - loss: 0.0745 - accuracy: 0.9807 - true_positives_2: 3630.0000 - false_positives_2: 56.0000 - true_negatives_2: 1598.0000 - false_negatives_2: 47.0000 - val_loss: 0.1148 - val_accuracy: 0.9595 - val_true_positives_2: 2646.0000 - val_false_positives_2: 111.0000 - val_true_negatives_2: 1192.0000 - val_false_negatives_2: 51.0000\n",
            "Epoch 12/30\n",
            "11/11 [==============================] - 20s 2s/step - loss: 0.0634 - accuracy: 0.9839 - true_positives_2: 3635.0000 - false_positives_2: 44.0000 - true_negatives_2: 1610.0000 - false_negatives_2: 42.0000 - val_loss: 0.1071 - val_accuracy: 0.9622 - val_true_positives_2: 2639.0000 - val_false_positives_2: 93.0000 - val_true_negatives_2: 1210.0000 - val_false_negatives_2: 58.0000\n",
            "Epoch 13/30\n",
            "11/11 [==============================] - 20s 2s/step - loss: 0.0547 - accuracy: 0.9856 - true_positives_2: 3640.0000 - false_positives_2: 40.0000 - true_negatives_2: 1614.0000 - false_negatives_2: 37.0000 - val_loss: 0.1010 - val_accuracy: 0.9643 - val_true_positives_2: 2644.0000 - val_false_positives_2: 90.0000 - val_true_negatives_2: 1213.0000 - val_false_negatives_2: 53.0000\n",
            "Epoch 14/30\n",
            "11/11 [==============================] - 21s 2s/step - loss: 0.0473 - accuracy: 0.9891 - true_positives_2: 3647.0000 - false_positives_2: 28.0000 - true_negatives_2: 1626.0000 - false_negatives_2: 30.0000 - val_loss: 0.0963 - val_accuracy: 0.9655 - val_true_positives_2: 2642.0000 - val_false_positives_2: 83.0000 - val_true_negatives_2: 1220.0000 - val_false_negatives_2: 55.0000\n",
            "Epoch 15/30\n",
            "11/11 [==============================] - 20s 2s/step - loss: 0.0411 - accuracy: 0.9904 - true_positives_2: 3650.0000 - false_positives_2: 24.0000 - true_negatives_2: 1630.0000 - false_negatives_2: 27.0000 - val_loss: 0.0926 - val_accuracy: 0.9657 - val_true_positives_2: 2645.0000 - val_false_positives_2: 85.0000 - val_true_negatives_2: 1218.0000 - val_false_negatives_2: 52.0000\n",
            "Epoch 16/30\n",
            "11/11 [==============================] - 20s 2s/step - loss: 0.0362 - accuracy: 0.9912 - true_positives_2: 3652.0000 - false_positives_2: 22.0000 - true_negatives_2: 1632.0000 - false_negatives_2: 25.0000 - val_loss: 0.0896 - val_accuracy: 0.9672 - val_true_positives_2: 2641.0000 - val_false_positives_2: 75.0000 - val_true_negatives_2: 1228.0000 - val_false_negatives_2: 56.0000\n",
            "Epoch 17/30\n",
            "11/11 [==============================] - 23s 2s/step - loss: 0.0316 - accuracy: 0.9929 - true_positives_2: 3652.0000 - false_positives_2: 13.0000 - true_negatives_2: 1641.0000 - false_negatives_2: 25.0000 - val_loss: 0.0877 - val_accuracy: 0.9678 - val_true_positives_2: 2643.0000 - val_false_positives_2: 75.0000 - val_true_negatives_2: 1228.0000 - val_false_negatives_2: 54.0000\n",
            "Epoch 18/30\n",
            "11/11 [==============================] - 20s 2s/step - loss: 0.0282 - accuracy: 0.9946 - true_positives_2: 3658.0000 - false_positives_2: 10.0000 - true_negatives_2: 1644.0000 - false_negatives_2: 19.0000 - val_loss: 0.0853 - val_accuracy: 0.9693 - val_true_positives_2: 2642.0000 - val_false_positives_2: 68.0000 - val_true_negatives_2: 1235.0000 - val_false_negatives_2: 55.0000\n",
            "Epoch 19/30\n",
            "11/11 [==============================] - 21s 2s/step - loss: 0.0252 - accuracy: 0.9947 - true_positives_2: 3656.0000 - false_positives_2: 7.0000 - true_negatives_2: 1647.0000 - false_negatives_2: 21.0000 - val_loss: 0.0836 - val_accuracy: 0.9688 - val_true_positives_2: 2642.0000 - val_false_positives_2: 70.0000 - val_true_negatives_2: 1233.0000 - val_false_negatives_2: 55.0000\n",
            "Epoch 20/30\n",
            "11/11 [==============================] - 21s 2s/step - loss: 0.0225 - accuracy: 0.9959 - true_positives_2: 3663.0000 - false_positives_2: 8.0000 - true_negatives_2: 1646.0000 - false_negatives_2: 14.0000 - val_loss: 0.0832 - val_accuracy: 0.9688 - val_true_positives_2: 2642.0000 - val_false_positives_2: 70.0000 - val_true_negatives_2: 1233.0000 - val_false_negatives_2: 55.0000\n",
            "Epoch 21/30\n",
            "11/11 [==============================] - 20s 2s/step - loss: 0.0201 - accuracy: 0.9961 - true_positives_2: 3662.0000 - false_positives_2: 6.0000 - true_negatives_2: 1648.0000 - false_negatives_2: 15.0000 - val_loss: 0.0816 - val_accuracy: 0.9695 - val_true_positives_2: 2648.0000 - val_false_positives_2: 73.0000 - val_true_negatives_2: 1230.0000 - val_false_negatives_2: 49.0000\n",
            "Epoch 22/30\n",
            "11/11 [==============================] - 21s 2s/step - loss: 0.0186 - accuracy: 0.9968 - true_positives_2: 3670.0000 - false_positives_2: 10.0000 - true_negatives_2: 1644.0000 - false_negatives_2: 7.0000 - val_loss: 0.0809 - val_accuracy: 0.9703 - val_true_positives_2: 2640.0000 - val_false_positives_2: 62.0000 - val_true_negatives_2: 1241.0000 - val_false_negatives_2: 57.0000\n",
            "Epoch 23/30\n",
            "11/11 [==============================] - 21s 2s/step - loss: 0.0166 - accuracy: 0.9970 - true_positives_2: 3665.0000 - false_positives_2: 4.0000 - true_negatives_2: 1650.0000 - false_negatives_2: 12.0000 - val_loss: 0.0805 - val_accuracy: 0.9710 - val_true_positives_2: 2649.0000 - val_false_positives_2: 68.0000 - val_true_negatives_2: 1235.0000 - val_false_negatives_2: 48.0000\n",
            "Epoch 24/30\n",
            "11/11 [==============================] - 21s 2s/step - loss: 0.0150 - accuracy: 0.9976 - true_positives_2: 3669.0000 - false_positives_2: 5.0000 - true_negatives_2: 1649.0000 - false_negatives_2: 8.0000 - val_loss: 0.0800 - val_accuracy: 0.9712 - val_true_positives_2: 2644.0000 - val_false_positives_2: 62.0000 - val_true_negatives_2: 1241.0000 - val_false_negatives_2: 53.0000\n",
            "Epoch 25/30\n",
            "11/11 [==============================] - 20s 2s/step - loss: 0.0138 - accuracy: 0.9981 - true_positives_2: 3670.0000 - false_positives_2: 3.0000 - true_negatives_2: 1651.0000 - false_negatives_2: 7.0000 - val_loss: 0.0798 - val_accuracy: 0.9712 - val_true_positives_2: 2649.0000 - val_false_positives_2: 67.0000 - val_true_negatives_2: 1236.0000 - val_false_negatives_2: 48.0000\n",
            "Epoch 26/30\n",
            "11/11 [==============================] - 21s 2s/step - loss: 0.0126 - accuracy: 0.9981 - true_positives_2: 3670.0000 - false_positives_2: 3.0000 - true_negatives_2: 1651.0000 - false_negatives_2: 7.0000 - val_loss: 0.0800 - val_accuracy: 0.9712 - val_true_positives_2: 2647.0000 - val_false_positives_2: 65.0000 - val_true_negatives_2: 1238.0000 - val_false_negatives_2: 50.0000\n",
            "Epoch 27/30\n",
            "11/11 [==============================] - 21s 2s/step - loss: 0.0116 - accuracy: 0.9979 - true_positives_2: 3669.0000 - false_positives_2: 3.0000 - true_negatives_2: 1651.0000 - false_negatives_2: 8.0000 - val_loss: 0.0802 - val_accuracy: 0.9710 - val_true_positives_2: 2646.0000 - val_false_positives_2: 65.0000 - val_true_negatives_2: 1238.0000 - val_false_negatives_2: 51.0000\n",
            "Epoch 28/30\n",
            "11/11 [==============================] - 20s 2s/step - loss: 0.0109 - accuracy: 0.9983 - true_positives_2: 3672.0000 - false_positives_2: 4.0000 - true_negatives_2: 1650.0000 - false_negatives_2: 5.0000 - val_loss: 0.0803 - val_accuracy: 0.9720 - val_true_positives_2: 2646.0000 - val_false_positives_2: 61.0000 - val_true_negatives_2: 1242.0000 - val_false_negatives_2: 51.0000\n",
            "Epoch 29/30\n",
            "11/11 [==============================] - 20s 2s/step - loss: 0.0101 - accuracy: 0.9981 - true_positives_2: 3670.0000 - false_positives_2: 3.0000 - true_negatives_2: 1651.0000 - false_negatives_2: 7.0000 - val_loss: 0.0806 - val_accuracy: 0.9715 - val_true_positives_2: 2646.0000 - val_false_positives_2: 63.0000 - val_true_negatives_2: 1240.0000 - val_false_negatives_2: 51.0000\n",
            "Epoch 30/30\n",
            "11/11 [==============================] - 29s 2s/step - loss: 0.0093 - accuracy: 0.9985 - true_positives_2: 3673.0000 - false_positives_2: 4.0000 - true_negatives_2: 1650.0000 - false_negatives_2: 4.0000 - val_loss: 0.0806 - val_accuracy: 0.9715 - val_true_positives_2: 2645.0000 - val_false_positives_2: 62.0000 - val_true_negatives_2: 1241.0000 - val_false_negatives_2: 52.0000\n"
          ]
        }
      ],
      "source": [
        "history = model.fit(partial_x_train,\n",
        "                    partial_y_train,\n",
        "                    epochs=30,\n",
        "                    batch_size=512,\n",
        "                    validation_data=(x_val, y_val),\n",
        "                    verbose=1)"
      ]
    },
    {
      "cell_type": "code",
      "execution_count": null,
      "metadata": {
        "id": "zOMKywn4zReN",
        "colab": {
          "base_uri": "https://localhost:8080/"
        },
        "outputId": "0c54c260-30d8-4514-9b88-204d388d3094"
      },
      "outputs": [
        {
          "output_type": "stream",
          "name": "stdout",
          "text": [
            "73/73 [==============================] - 17s 233ms/step - loss: 0.0930 - accuracy: 0.9704 - true_positives_2: 1592.0000 - false_positives_2: 40.0000 - true_negatives_2: 672.0000 - false_negatives_2: 29.0000\n",
            "[0.09302279353141785, 0.9704243540763855, 1592.0, 40.0, 672.0, 29.0]\n"
          ]
        }
      ],
      "source": [
        "results = model.evaluate(test_examples, test_labels)\n",
        "\n",
        "print(results)"
      ]
    },
    {
      "cell_type": "code",
      "execution_count": null,
      "metadata": {
        "id": "nGoYf2Js-lle",
        "colab": {
          "base_uri": "https://localhost:8080/",
          "height": 472
        },
        "outputId": "6f87caa6-0537-492a-dba1-88f786819d6a"
      },
      "outputs": [
        {
          "output_type": "display_data",
          "data": {
            "text/plain": [
              "<Figure size 640x480 with 1 Axes>"
            ],
            "image/png": "[encoded data removed]"
          },
          "metadata": {}
        }
      ],
      "source": [
        "history_dict = history.history\n",
        "history_dict.keys()\n",
        "\n",
        "acc = history_dict['accuracy']\n",
        "val_acc = history_dict['val_accuracy']\n",
        "loss = history_dict['loss']\n",
        "val_loss = history_dict['val_loss']\n",
        "\n",
        "epochs = range(1, len(acc) + 1)\n",
        "\n",
        "# \"bo\" is for \"blue dot\"\n",
        "plt.plot(epochs, loss, 'bo', label='Training loss')\n",
        "# b is for \"solid blue line\"\n",
        "plt.plot(epochs, val_loss, 'b', label='Validation loss')\n",
        "plt.title('Training and validation loss')\n",
        "plt.xlabel('Epochs')\n",
        "plt.ylabel('Loss')\n",
        "plt.legend()\n",
        "\n",
        "plt.show()"
      ]
    },
    {
      "cell_type": "code",
      "execution_count": null,
      "metadata": {
        "id": "6hXx-xOv-llh",
        "colab": {
          "base_uri": "https://localhost:8080/",
          "height": 472
        },
        "outputId": "8955e72c-3a91-4f71-a073-bc207cbe40fd"
      },
      "outputs": [
        {
          "output_type": "display_data",
          "data": {
            "text/plain": [
              "<Figure size 640x480 with 1 Axes>"
            ],
            "image/png": "[encoded data removed]"
          },
          "metadata": {}
        }
      ],
      "source": [
        "plt.clf()   # clear figure\n",
        "\n",
        "plt.plot(epochs, acc, 'bo', label='Training acc')\n",
        "plt.plot(epochs, val_acc, 'b', label='Validation acc')\n",
        "plt.title('Training and validation accuracy')\n",
        "plt.xlabel('Epochs')\n",
        "plt.ylabel('Accuracy')\n",
        "plt.legend()\n",
        "\n",
        "plt.show()"
      ]
    },
    {
      "cell_type": "code",
      "source": [
        "with open(\"testURLs.txt\", 'r') as fh:\n",
        "  testURLs = fh.readlines()\n",
        "\n",
        "with open(\"results_test.txt\", 'r') as fh:\n",
        "  data = fh.readlines()\n",
        "\n",
        "\n",
        "export_model = tf.keras.Sequential([\n",
        "  model,\n",
        "  tf.keras.layers.Activation('sigmoid')\n",
        "])\n",
        "\n",
        "predictions = export_model.predict(data)\n",
        "\n",
        "print(\"====== Benign Test URLs ======\")\n",
        "for i, url in enumerate(testURLs):\n",
        "  if i == 20:\n",
        "    print(\"\\n====== Malicious Test URLs ======\")\n",
        "  if predictions[i] > 0.5:\n",
        "    result = \"malicious\"\n",
        "  else:\n",
        "    result = \"benign\"\n",
        "  print(\"{}: {}\".format(result, url.strip()))\n",
        "\n",
        "\n"
      ],
      "metadata": {
        "id": "H8V50aqTCRT2",
        "colab": {
          "base_uri": "https://localhost:8080/"
        },
        "outputId": "3edad5db-5abb-4e67-92fe-a0cf2f24b18d"
      },
      "execution_count": null,
      "outputs": [
        {
          "output_type": "stream",
          "name": "stdout",
          "text": [
            "4/4 [==============================] - 1s 225ms/step\n",
            "====== Benign Test URLs ======\n",
            "malicious: nure.ua/\n",
            "benign: kpi.ua/\n",
            "benign: www.mit.edu/\n",
            "malicious: www.bth.se/\n",
            "benign: www.nioguard.com/\n",
            "malicious: www.dnt-lab.com/\n",
            "benign: www.stanford.edu/\n",
            "benign: www.ox.ac.uk/\n",
            "benign: www.purdue.edu/\n",
            "benign: www.fiu.edu/\n",
            "malicious: web.telegram.org/\n",
            "benign: www.paypal.com/ua/home\n",
            "malicious: engensec.eu/\n",
            "malicious: www.knmu.kharkov.ua/index.php?lang=en\n",
            "malicious: www.msu.ru/en/\n",
            "benign: www.virustotal.com/\n",
            "benign: www.virusbulletin.com/\n",
            "benign: blackhat.com/\n",
            "benign: www.rsaconference.com/en\n",
            "malicious: www.ewdtest.com/\n",
            "\n",
            "====== Malicious Test URLs ======\n",
            "malicious: www.amazon-check-co-jp.s4u.top/\n",
            "malicious: orange607.yolasite.com/\n",
            "malicious: orange-auth-log.weebly.com/\n",
            "malicious: www.amazon-check-co-jp.x8g.top/\n",
            "malicious: myjcb.cn.availablepresen.buzz/\n",
            "malicious: orange603.yolasite.com/\n",
            "malicious: stadtsparkasse-giroverband10.xyz/sputnikv/anmeldung.php?starten...\n",
            "malicious: stadtsparkasse-giroverband10.xyz/sputnikv/...\n",
            "malicious: instagram.testmyprojects.tk/login.html...\n",
            "malicious: instagram.testmyprojects.tk/\n",
            "malicious: www.amazon-check-co-jp.n6m.top/\n",
            "malicious: www.amaomazon.buzz/\n",
            "malicious: www.amaomazon.buzz/\n",
            "malicious: drawgames.top/easter/\n",
            "malicious: www.amazon-check-co-jp.q3p.top/\n",
            "malicious: emgai20p.000webhostapp.com/\n",
            "malicious: crystalls.000webhostapp.com/\n",
            "malicious: discordaccountcp.000webhostapp.com/\n",
            "malicious: olx.pl-sale.club/order/783405925\n",
            "malicious: weborange.yolasite.com/\n",
            "malicious: co-jp.rakuttee.shop/\n",
            "malicious: co-jp.rakuteon.tokyo/\n",
            "malicious: pour-vous-identifier58.yolasite.com/\n",
            "benign: royalgbshipping.com\n",
            "malicious: urlth.me/bpstt\n",
            "malicious: orange604.yolasite.com/\n",
            "malicious: stadtsparkasse-giroverband10.xyz/sputnikv/anmeldung.php?starten...\n",
            "malicious: stadtsparkasse-giroverband10.xyz/sputnikv...\n",
            "malicious: 208.113.129.11/mobile/Inicio\n",
            "malicious: 216.118.241.29/ap/signin?openid.pape.max_auth_age=0&openid....\n",
            "malicious: yufeng.shop/hZhIztFFCd.html\n",
            "malicious: www.amaomazon.xyz/\n",
            "malicious: www.amaomazon.xyz/\n",
            "malicious: votre-fixe2.yolasite.com/\n",
            "malicious: fixe-messagerie0.yolasite.com/\n",
            "malicious: secure.deviceassistance.me/\n",
            "malicious: secure.verify-deviceinfo.me/\n",
            "malicious: onlineaccounts-bancodeoro.com/security/verify...\n",
            "malicious: uscrateclub.com/FlirtyWink/ourtime.com/login.php?cmd=login_subm...\n",
            "malicious: uscrateclub.com/FlirtyWink/ourtime.com/...\n",
            "malicious: buysuplldufomf.com/mazon/c657a/homepage/...\n",
            "malicious: o2-via-billingupdate.com/Login/index?id=1a73d46e414285b87324ed...\n",
            "malicious: o2-via-billingupdate.com/\n",
            "benign: amtazon.tokyo/\n",
            "malicious: nwsecure-newpayee-cancel.com/\n",
            "benign: mobile-cancelpayee.com/\n",
            "malicious: o2duebilling.co.uk/Login/index?id=6cd9fee083cd34d650ef90d73574...\n",
            "malicious: o2duebilling.co.uk/\n",
            "malicious: orange605.yolasite.com/\n",
            "malicious: mdpresence.buzz/index/index/index.php\n",
            "malicious: assistenza-app-mps.com/\n",
            "malicious: messagerie-fixe-orange3.yolasite.com/\n",
            "malicious: orange602.yolasite.com/\n",
            "malicious: urlth.me/B9LgB\n",
            "malicious: vocaleorange207.wixsite.com/orange\n",
            "malicious: roogeerss.weebly.com/\n",
            "malicious: www.skinfreefornow2021.ga/login/facebook...\n",
            "malicious: me-helpdesk-fbclid8949837273742.live/Id=93549343435...\n",
            "malicious: ipv4x-201-88-101-77.nl/sca-nl\n",
            "benign: detogroups.com/ff/2hosts\n",
            "malicious: ammazonams.temp.swtest.ru/amzResultsfixed-1/amazooo/amazooo/ama...\n",
            "malicious: sms-orange7.yolasite.com/\n",
            "malicious: olx.pl-saves.icu/getpay/592664146\n",
            "malicious: zografizotinellada.000webhostapp.com/\n",
            "malicious: fixe-messagerie0.yolasite.com/\n",
            "malicious: copyright-help-us.000webhostapp.com/\n",
            "malicious: rblxapionline.000webhostapp.com/\n",
            "malicious: juclonocontest2.000webhostapp.com/\n",
            "malicious: selamkees.000webhostapp.com/\n",
            "malicious: cararticle0033.000webhostapp.com/\n",
            "malicious: rpskinsfree2021.000webhostapp.com/\n",
            "malicious: paintgift12.000webhostapp.com/\n",
            "malicious: muratxex.000webhostapp.com/\n",
            "malicious: accountskypmicosoft.000webhostapp.com/...\n",
            "malicious: site-atomic.000webhostapp.com/claim.php...\n",
            "benign: attiva-dati2021.com/\n",
            "malicious: accountbilling-ee-secure.com/\n",
            "malicious: copyrightmanagerinfo.ml/\n",
            "malicious: 208.113.129.11/mobile/Inicio/login/\n",
            "malicious: 208.113.129.11/mobile/Inicio/login\n"
          ]
        }
      ]
    }
  ],
  "metadata": {
    "colab": {
      "provenance": [],
      "include_colab_link": true
    },
    "kernelspec": {
      "display_name": "Python 3",
      "name": "python3"
    },
    "gpuClass": "standard"
  },
  "nbformat": 4,
  "nbformat_minor": 0
}